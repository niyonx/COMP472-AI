{
 "cells": [
  {
   "cell_type": "markdown",
   "metadata": {},
   "source": [
    "# Uniform Cost Search"
   ]
  },
  {
   "cell_type": "markdown",
   "metadata": {},
   "source": [
    "## Import modules"
   ]
  },
  {
   "cell_type": "code",
   "execution_count": 1,
   "metadata": {},
   "outputs": [],
   "source": [
    "import time\n",
    "from utils import helper"
   ]
  },
  {
   "cell_type": "markdown",
   "metadata": {},
   "source": [
    "## Load puzzles"
   ]
  },
  {
   "cell_type": "code",
   "execution_count": 2,
   "metadata": {},
   "outputs": [],
   "source": [
    "f = open(\"samplePuzzle.txt\", \"r\")\n",
    "\n",
    "puzzles = []\n",
    "\n",
    "for line in f:\n",
    "    puzzles.append(line.rstrip('\\n').replace(\" \", \"\"))"
   ]
  },
  {
   "cell_type": "code",
   "execution_count": 3,
   "metadata": {},
   "outputs": [
    {
     "name": "stdout",
     "output_type": "stream",
     "text": [
      "['30142657', '63471250', '10365274']\n"
     ]
    }
   ],
   "source": [
    "print(puzzles)"
   ]
  },
  {
   "cell_type": "markdown",
   "metadata": {},
   "source": [
    "## Solve the puzzle"
   ]
  },
  {
   "cell_type": "code",
   "execution_count": 4,
   "metadata": {},
   "outputs": [],
   "source": [
    "def ucs(puzzle, number):\n",
    "    start_time = time.time()\n",
    "    timeout = time.time() + 60   # 60 seconds from now\n",
    "    closed = []    \n",
    "    opened = helper.find_possible_paths(puzzle)\n",
    "    cost = 0\n",
    "    total_cost = 0\n",
    "    initial = puzzle\n",
    "    \n",
    "    while(opened):\n",
    "        opened.sort(key=lambda x: x[1])\n",
    "        puzzle, cost, predecessor, token_to_move = opened.pop(0)\n",
    "        closed.append((puzzle, cost, predecessor, token_to_move))\n",
    "        \n",
    "        # checking goal path\n",
    "        if(puzzle == '12345670' or puzzle == '13572460'):\n",
    "            path = []\n",
    "            predecessor = closed[-1][2]\n",
    "            total_cost += closed[-1][1]\n",
    "            path.append(closed.pop(-1))\n",
    "            \n",
    "            # backtracking to find solution path\n",
    "            for puzzle in reversed(closed):\n",
    "                if(puzzle[0] == predecessor):\n",
    "                    total_cost += puzzle[1]\n",
    "                    predecessor = puzzle[2]\n",
    "                    path.append(puzzle)\n",
    "                    \n",
    "            # create solution and search file\n",
    "            sol = open(f\"./output/{number}_ucs_solution.txt\", \"w\")\n",
    "            search = open(f\"./output/{number}_ucs_search.txt\", \"w\")\n",
    "            \n",
    "            sol.write(f\"0 0 {' '.join(initial)}\\n\")\n",
    "            for puzzle in reversed(path):\n",
    "                sol.write(f\"{puzzle[3]} {puzzle[1]} {' '.join(puzzle[0])}\\n\")\n",
    "                search.write(f'0 0 0 {\" \".join(puzzle[0])}\\n')\n",
    "            sol.write(f\"{total_cost} {(time.time() - start_time):.1f}\")\n",
    "            sol.close()\n",
    "            search.close()\n",
    "            return True\n",
    "        \n",
    "        # no solution after 60s\n",
    "        if(time.time() > timeout):\n",
    "            f = open(f\"./output/{number}_ucs_solution.txt\", \"w\")\n",
    "            f.write(\"no solution\")\n",
    "            f.close()\n",
    "            f = open(f\"./output/{number}_ucs_search.txt\", \"w\")\n",
    "            f.write(\"no solution\")\n",
    "            f.close()\n",
    "            return False\n",
    "        \n",
    "        opened.extend(helper.find_possible_paths(puzzle, closed))"
   ]
  },
  {
   "cell_type": "code",
   "execution_count": 5,
   "metadata": {},
   "outputs": [
    {
     "name": "stdout",
     "output_type": "stream",
     "text": [
      "False\n",
      "False\n",
      "True\n"
     ]
    }
   ],
   "source": [
    "for number, puzzle in enumerate(puzzles):\n",
    "    print(ucs(puzzle, number))"
   ]
  }
 ],
 "metadata": {
  "kernelspec": {
   "display_name": "Python 3",
   "language": "python",
   "name": "python3"
  },
  "language_info": {
   "codemirror_mode": {
    "name": "ipython",
    "version": 3
   },
   "file_extension": ".py",
   "mimetype": "text/x-python",
   "name": "python",
   "nbconvert_exporter": "python",
   "pygments_lexer": "ipython3",
   "version": "3.8.6"
  }
 },
 "nbformat": 4,
 "nbformat_minor": 2
}
